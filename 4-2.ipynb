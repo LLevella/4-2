{
 "cells": [
  {
   "cell_type": "code",
   "execution_count": 1,
   "metadata": {},
   "outputs": [],
   "source": [
    "import pandas as pnd"
   ]
  },
  {
   "cell_type": "code",
   "execution_count": 2,
   "metadata": {},
   "outputs": [],
   "source": [
    "import os"
   ]
  },
  {
   "cell_type": "code",
   "execution_count": 3,
   "metadata": {},
   "outputs": [],
   "source": [
    "years_begin = 1900\n",
    "years_end = 2000\n",
    "years_step = 5\n",
    "path_name = 'names'\n",
    "children_names = ['Ruth', 'Robert']"
   ]
  },
  {
   "cell_type": "code",
   "execution_count": 4,
   "metadata": {},
   "outputs": [],
   "source": [
    "DATA_PATH = os.path.join(os.getcwd(),path_name)"
   ]
  },
  {
   "cell_type": "code",
   "execution_count": 5,
   "metadata": {},
   "outputs": [
    {
     "data": {
      "text/plain": [
       "'C:\\\\Users\\\\irina\\\\source\\\\repos\\\\ex4-2\\\\names'"
      ]
     },
     "execution_count": 5,
     "metadata": {},
     "output_type": "execute_result"
    }
   ],
   "source": [
    "DATA_PATH"
   ]
  },
  {
   "cell_type": "code",
   "execution_count": 6,
   "metadata": {},
   "outputs": [],
   "source": [
    "data_pathes = []\n",
    "data_years = []\n",
    "for year in range(years_begin, years_end):\n",
    "    str_year = \"yob\" + str(year)+ \".txt\"\n",
    "    path_test = os.path.join(DATA_PATH, str_year)\n",
    "    if os.path.exists(path_test) and os.path.isfile(path_test):\n",
    "        data_pathes.append(path_test)\n",
    "        data_years.append(year)\n",
    "str_ch_names = '\",\"'.join(children_names)"
   ]
  },
  {
   "cell_type": "code",
   "execution_count": 7,
   "metadata": {},
   "outputs": [],
   "source": [
    "str_ch_names = 'Name == [\"'+str_ch_names+'\"]'"
   ]
  },
  {
   "cell_type": "code",
   "execution_count": 8,
   "metadata": {},
   "outputs": [],
   "source": [
    "data_for_analytics = []\n",
    "for dp in data_pathes:\n",
    "    data_for_analytics.append(pnd.read_csv(dp, names = ['Name', 'Gender', 'Count']))"
   ]
  },
  {
   "cell_type": "code",
   "execution_count": 9,
   "metadata": {},
   "outputs": [],
   "source": [
    "for data_elem_analytics, year_elem in zip(data_for_analytics, data_years):\n",
    "    len_df = len(data_elem_analytics)\n",
    "    year_series = pnd.Series((year_elem) for i in range(len_df))\n",
    "    data_elem_analytics['Year'] = year_series"
   ]
  },
  {
   "cell_type": "code",
   "execution_count": 10,
   "metadata": {},
   "outputs": [],
   "source": [
    "if len(data_for_analytics):\n",
    "    data_by_all_years_with_years = pnd.concat(data_for_analytics)\n",
    "    data_by_children_by_all_year = data_by_all_years_with_years.query(str_ch_names)"
   ]
  },
  {
   "cell_type": "code",
   "execution_count": 11,
   "metadata": {},
   "outputs": [],
   "source": [
    "grouped_data = data_by_children_by_all_year.groupby(['Year', 'Name']).sum()"
   ]
  },
  {
   "cell_type": "code",
   "execution_count": 12,
   "metadata": {},
   "outputs": [],
   "source": [
    "plot_data = grouped_data.unstack('Name')"
   ]
  },
  {
   "cell_type": "code",
   "execution_count": 13,
   "metadata": {},
   "outputs": [
    {
     "data": {
      "text/plain": [
       "<matplotlib.axes._subplots.AxesSubplot at 0x13a0fb00>"
      ]
     },
     "execution_count": 13,
     "metadata": {},
     "output_type": "execute_result"
    }
   ],
   "source": [
    "plot_data.plot()"
   ]
  },
  {
   "cell_type": "code",
   "execution_count": 14,
   "metadata": {},
   "outputs": [],
   "source": [
    "data_pathes = []\n",
    "data_years = []\n",
    "for year in range(years_begin, years_end, years_step):\n",
    "    str_year = \"yob\" + str(year)+ \".txt\"\n",
    "    path_test = os.path.join(DATA_PATH, str_year)\n",
    "    if os.path.exists(path_test) and os.path.isfile(path_test):\n",
    "        data_pathes.append(path_test)\n",
    "        data_years.append(year)\n",
    "\n",
    "data_for_analytics = []\n",
    "for dp in data_pathes:\n",
    "    data_for_analytics.append(pnd.read_csv(dp, names = ['Name', 'Gender', 'Count']))\n",
    "\n",
    "for data_elem_analytics, year_elem in zip(data_for_analytics, data_years):\n",
    "    len_df = len(data_elem_analytics)\n",
    "    year_series = pnd.Series((year_elem) for i in range(len_df))\n",
    "    data_elem_analytics['Year'] = year_series\n",
    "\n",
    "if len(data_for_analytics):\n",
    "    data_by_all_years_with_years = pnd.concat(data_for_analytics)\n",
    "    data_by_children_by_all_year = data_by_all_years_with_years.query(str_ch_names)\n",
    "\n",
    "grouped_data = data_by_children_by_all_year.groupby(['Year', 'Name']).sum()\n",
    "\n",
    "plot_data = grouped_data.unstack('Name')"
   ]
  },
  {
   "cell_type": "code",
   "execution_count": 15,
   "metadata": {},
   "outputs": [
    {
     "data": {
      "text/plain": [
       "<matplotlib.axes._subplots.AxesSubplot at 0xae48e48>"
      ]
     },
     "execution_count": 15,
     "metadata": {},
     "output_type": "execute_result"
    },
    {
     "data": {
      "image/png": "[encoded data removed]",
      "text/plain": [
       "<matplotlib.figure.Figure at 0xa4955f8>"
      ]
     },
     "metadata": {},
     "output_type": "display_data"
    }
   ],
   "source": [
    "plot_data.plot.bar()"
   ]
  },
  {
   "cell_type": "code",
   "execution_count": null,
   "metadata": {},
   "outputs": [],
   "source": []
  },
  {
   "cell_type": "code",
   "execution_count": null,
   "metadata": {},
   "outputs": [],
   "source": []
  }
 ],
 "metadata": {
  "kernelspec": {
   "display_name": "Python 2",
   "language": "python",
   "name": "python2"
  },
  "language_info": {
   "codemirror_mode": {
    "name": "ipython",
    "version": 2
   },
   "file_extension": ".py",
   "mimetype": "text/x-python",
   "name": "python",
   "nbconvert_exporter": "python",
   "pygments_lexer": "ipython2",
   "version": "2.7.14"
  }
 },
 "nbformat": 4,
 "nbformat_minor": 2
}
