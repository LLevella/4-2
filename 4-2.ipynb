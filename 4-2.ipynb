{
 "cells": [
  {
   "cell_type": "code",
   "execution_count": 1,
   "metadata": {},
   "outputs": [],
   "source": [
    "import pandas as pnd"
   ]
  },
  {
   "cell_type": "code",
   "execution_count": 2,
   "metadata": {},
   "outputs": [],
   "source": [
    "import os"
   ]
  },
  {
   "cell_type": "code",
   "execution_count": 3,
   "metadata": {},
   "outputs": [],
   "source": [
    "years_begin = 1900\n",
    "years_end = 2000\n",
    "years_step = 5\n",
    "years_chck = [1950]\n",
    "path_name = 'names'\n",
    "children_names = ['Ruth', 'Robert']\n",
    "ntop = 10"
   ]
  },
  {
   "cell_type": "code",
   "execution_count": 4,
   "metadata": {},
   "outputs": [],
   "source": [
    "DATA_PATH = os.path.join(os.getcwd(),path_name)"
   ]
  },
  {
   "cell_type": "code",
   "execution_count": 5,
   "metadata": {},
   "outputs": [
    {
     "data": {
      "text/plain": [
       "'C:\\\\Users\\\\irina\\\\source\\\\repos\\\\ex4-2\\\\names'"
      ]
     },
     "execution_count": 5,
     "metadata": {},
     "output_type": "execute_result"
    }
   ],
   "source": [
    "DATA_PATH"
   ]
  },
  {
   "cell_type": "code",
   "execution_count": 6,
   "metadata": {},
   "outputs": [],
   "source": [
    "data_pathes = []\n",
    "data_years = []\n",
    "for year in range(years_begin, years_end):\n",
    "    str_year = \"yob\" + str(year)+ \".txt\"\n",
    "    path_test = os.path.join(DATA_PATH, str_year)\n",
    "    if os.path.exists(path_test) and os.path.isfile(path_test):\n",
    "        data_pathes.append(path_test)\n",
    "        data_years.append(year)\n",
    "str_ch_names = '\",\"'.join(children_names)"
   ]
  },
  {
   "cell_type": "code",
   "execution_count": 7,
   "metadata": {},
   "outputs": [],
   "source": [
    "str_ch_names = 'Name == [\"'+str_ch_names+'\"]'"
   ]
  },
  {
   "cell_type": "code",
   "execution_count": 8,
   "metadata": {},
   "outputs": [],
   "source": [
    "data_for_analytics = []\n",
    "for dp in data_pathes:\n",
    "    data_for_analytics.append(pnd.read_csv(dp, names = ['Name', 'Gender', 'Count']))"
   ]
  },
  {
   "cell_type": "code",
   "execution_count": 9,
   "metadata": {},
   "outputs": [],
   "source": [
    "for data_elem_analytics, year_elem in zip(data_for_analytics, data_years):\n",
    "    len_df = len(data_elem_analytics)\n",
    "    year_series = pnd.Series((year_elem) for i in range(len_df))\n",
    "    data_elem_analytics['Year'] = year_series"
   ]
  },
  {
   "cell_type": "code",
   "execution_count": 10,
   "metadata": {},
   "outputs": [],
   "source": [
    "if len(data_for_analytics):\n",
    "    data_by_all_years_with_years = pnd.concat(data_for_analytics)\n",
    "    data_by_children_by_all_year = data_by_all_years_with_years.query(str_ch_names)"
   ]
  },
  {
   "cell_type": "code",
   "execution_count": 11,
   "metadata": {},
   "outputs": [],
   "source": [
    "grouped_data = data_by_children_by_all_year.groupby(['Year', 'Name']).sum()"
   ]
  },
  {
   "cell_type": "code",
   "execution_count": 12,
   "metadata": {},
   "outputs": [],
   "source": [
    "plot_data = grouped_data.unstack('Name')"
   ]
  },
  {
   "cell_type": "code",
   "execution_count": 13,
   "metadata": {},
   "outputs": [
    {
     "data": {
      "text/plain": [
       "<matplotlib.axes._subplots.AxesSubplot at 0x13919b00>"
      ]
     },
     "execution_count": 13,
     "metadata": {},
     "output_type": "execute_result"
    }
   ],
   "source": [
    "plot_data.plot()"
   ]
  },
  {
   "cell_type": "code",
   "execution_count": 14,
   "metadata": {},
   "outputs": [],
   "source": [
    "data_pathes = []\n",
    "data_years = []\n",
    "for year in range(years_begin, years_end, years_step):\n",
    "    str_year = \"yob\" + str(year)+ \".txt\"\n",
    "    path_test = os.path.join(DATA_PATH, str_year)\n",
    "    if os.path.exists(path_test) and os.path.isfile(path_test):\n",
    "        data_pathes.append(path_test)\n",
    "        data_years.append(year)\n",
    "\n",
    "data_for_analytics = []\n",
    "for dp in data_pathes:\n",
    "    data_for_analytics.append(pnd.read_csv(dp, names = ['Name', 'Gender', 'Count']))\n",
    "\n",
    "for data_elem_analytics, year_elem in zip(data_for_analytics, data_years):\n",
    "    len_df = len(data_elem_analytics)\n",
    "    year_series = pnd.Series((year_elem) for i in range(len_df))\n",
    "    data_elem_analytics['Year'] = year_series\n",
    "\n",
    "if len(data_for_analytics):\n",
    "    data_by_all_years_with_years = pnd.concat(data_for_analytics)\n",
    "    data_by_children_by_all_year = data_by_all_years_with_years.query(str_ch_names)\n",
    "\n",
    "grouped_data = data_by_children_by_all_year.groupby(['Year', 'Name']).sum()\n",
    "\n",
    "plot_data = grouped_data.unstack('Name')"
   ]
  },
  {
   "cell_type": "code",
   "execution_count": 15,
   "metadata": {},
   "outputs": [
    {
     "data": {
      "text/plain": [
       "<matplotlib.axes._subplots.AxesSubplot at 0x87172b0>"
      ]
     },
     "execution_count": 15,
     "metadata": {},
     "output_type": "execute_result"
    },
    {
     "data": {
      "image/png": "[encoded data removed]",
      "text/plain": [
       "<matplotlib.figure.Figure at 0x45ab278>"
      ]
     },
     "metadata": {},
     "output_type": "display_data"
    }
   ],
   "source": [
    "plot_data.plot.bar()"
   ]
  },
  {
   "cell_type": "code",
   "execution_count": 16,
   "metadata": {},
   "outputs": [],
   "source": [
    "data_pathes = []\n",
    "data_years = []\n",
    "for year in years_chck:\n",
    "    str_year = \"yob\" + str(year)+ \".txt\"\n",
    "    path_test = os.path.join(DATA_PATH, str_year)\n",
    "    if os.path.exists(path_test) and os.path.isfile(path_test):\n",
    "        data_pathes.append(path_test)\n",
    "        data_years.append(year)\n",
    "\n",
    "data_for_analytics = []\n",
    "for dp in data_pathes:\n",
    "    data_for_analytics.append(pnd.read_csv(dp, names = ['Name', 'Gender', 'Count']))\n",
    "\n",
    "for data_elem_analytics, year_elem in zip(data_for_analytics, data_years):\n",
    "    len_df = len(data_elem_analytics)\n",
    "    year_series = pnd.Series((year_elem) for i in range(len_df))\n",
    "    data_elem_analytics['Year'] = year_series\n",
    "\n",
    "if len(data_for_analytics):\n",
    "    data_by_all_years_with_years = pnd.concat(data_for_analytics)\n",
    "    data_by_children_with_years = data_by_all_years_with_years.set_index('Name').filter(regex='^R', axis=0)"
   ]
  },
  {
   "cell_type": "code",
   "execution_count": 17,
   "metadata": {},
   "outputs": [],
   "source": [
    "grouped_data = data_by_children_with_years.drop('Year', axis=1).groupby(['Name', 'Gender']).aggregate(sum)"
   ]
  },
  {
   "cell_type": "code",
   "execution_count": 18,
   "metadata": {},
   "outputs": [
    {
     "data": {
      "text/html": [
       "<div>\n",
       "<style scoped>\n",
       "    .dataframe tbody tr th:only-of-type {\n",
       "        vertical-align: middle;\n",
       "    }\n",
       "\n",
       "    .dataframe tbody tr th {\n",
       "        vertical-align: top;\n",
       "    }\n",
       "\n",
       "    .dataframe thead th {\n",
       "        text-align: right;\n",
       "    }\n",
       "</style>\n",
       "<table border=\"1\" class=\"dataframe\">\n",
       "  <thead>\n",
       "    <tr style=\"text-align: right;\">\n",
       "      <th></th>\n",
       "      <th></th>\n",
       "      <th>Count</th>\n",
       "    </tr>\n",
       "    <tr>\n",
       "      <th>Name</th>\n",
       "      <th>Gender</th>\n",
       "      <th></th>\n",
       "    </tr>\n",
       "  </thead>\n",
       "  <tbody>\n",
       "    <tr>\n",
       "      <th>Rabon</th>\n",
       "      <th>M</th>\n",
       "      <td>5</td>\n",
       "    </tr>\n",
       "    <tr>\n",
       "      <th>Rachael</th>\n",
       "      <th>F</th>\n",
       "      <td>88</td>\n",
       "    </tr>\n",
       "    <tr>\n",
       "      <th>Racheal</th>\n",
       "      <th>F</th>\n",
       "      <td>20</td>\n",
       "    </tr>\n",
       "    <tr>\n",
       "      <th>Rachel</th>\n",
       "      <th>F</th>\n",
       "      <td>1453</td>\n",
       "    </tr>\n",
       "    <tr>\n",
       "      <th>Rachele</th>\n",
       "      <th>F</th>\n",
       "      <td>8</td>\n",
       "    </tr>\n",
       "    <tr>\n",
       "      <th>Rachell</th>\n",
       "      <th>F</th>\n",
       "      <td>15</td>\n",
       "    </tr>\n",
       "    <tr>\n",
       "      <th>Rachelle</th>\n",
       "      <th>F</th>\n",
       "      <td>111</td>\n",
       "    </tr>\n",
       "    <tr>\n",
       "      <th>Rada</th>\n",
       "      <th>F</th>\n",
       "      <td>6</td>\n",
       "    </tr>\n",
       "    <tr>\n",
       "      <th>Radames</th>\n",
       "      <th>M</th>\n",
       "      <td>5</td>\n",
       "    </tr>\n",
       "    <tr>\n",
       "      <th>Radene</th>\n",
       "      <th>F</th>\n",
       "      <td>5</td>\n",
       "    </tr>\n",
       "    <tr>\n",
       "      <th>Radford</th>\n",
       "      <th>M</th>\n",
       "      <td>15</td>\n",
       "    </tr>\n",
       "    <tr>\n",
       "      <th>Radonna</th>\n",
       "      <th>F</th>\n",
       "      <td>7</td>\n",
       "    </tr>\n",
       "    <tr>\n",
       "      <th rowspan=\"2\" valign=\"top\">Rae</th>\n",
       "      <th>F</th>\n",
       "      <td>316</td>\n",
       "    </tr>\n",
       "    <tr>\n",
       "      <th>M</th>\n",
       "      <td>14</td>\n",
       "    </tr>\n",
       "    <tr>\n",
       "      <th>Raeann</th>\n",
       "      <th>F</th>\n",
       "      <td>17</td>\n",
       "    </tr>\n",
       "  </tbody>\n",
       "</table>\n",
       "</div>"
      ],
      "text/plain": [
       "                 Count\n",
       "Name     Gender       \n",
       "Rabon    M           5\n",
       "Rachael  F          88\n",
       "Racheal  F          20\n",
       "Rachel   F        1453\n",
       "Rachele  F           8\n",
       "Rachell  F          15\n",
       "Rachelle F         111\n",
       "Rada     F           6\n",
       "Radames  M           5\n",
       "Radene   F           5\n",
       "Radford  M          15\n",
       "Radonna  F           7\n",
       "Rae      F         316\n",
       "         M          14\n",
       "Raeann   F          17"
      ]
     },
     "execution_count": 18,
     "metadata": {},
     "output_type": "execute_result"
    }
   ],
   "source": [
    "grouped_data.head(15)"
   ]
  },
  {
   "cell_type": "code",
   "execution_count": 19,
   "metadata": {},
   "outputs": [],
   "source": [
    "plot_data = grouped_data.nlargest(ntop, 'Count')"
   ]
  },
  {
   "cell_type": "code",
   "execution_count": 20,
   "metadata": {},
   "outputs": [
    {
     "data": {
      "text/html": [
       "<div>\n",
       "<style scoped>\n",
       "    .dataframe tbody tr th:only-of-type {\n",
       "        vertical-align: middle;\n",
       "    }\n",
       "\n",
       "    .dataframe tbody tr th {\n",
       "        vertical-align: top;\n",
       "    }\n",
       "\n",
       "    .dataframe thead th {\n",
       "        text-align: right;\n",
       "    }\n",
       "</style>\n",
       "<table border=\"1\" class=\"dataframe\">\n",
       "  <thead>\n",
       "    <tr style=\"text-align: right;\">\n",
       "      <th></th>\n",
       "      <th></th>\n",
       "      <th>Count</th>\n",
       "    </tr>\n",
       "    <tr>\n",
       "      <th>Name</th>\n",
       "      <th>Gender</th>\n",
       "      <th></th>\n",
       "    </tr>\n",
       "  </thead>\n",
       "  <tbody>\n",
       "    <tr>\n",
       "      <th>Robert</th>\n",
       "      <th>M</th>\n",
       "      <td>83565</td>\n",
       "    </tr>\n",
       "    <tr>\n",
       "      <th>Richard</th>\n",
       "      <th>M</th>\n",
       "      <td>51001</td>\n",
       "    </tr>\n",
       "    <tr>\n",
       "      <th>Ronald</th>\n",
       "      <th>M</th>\n",
       "      <td>29916</td>\n",
       "    </tr>\n",
       "    <tr>\n",
       "      <th>Roger</th>\n",
       "      <th>M</th>\n",
       "      <td>12548</td>\n",
       "    </tr>\n",
       "    <tr>\n",
       "      <th>Raymond</th>\n",
       "      <th>M</th>\n",
       "      <td>11179</td>\n",
       "    </tr>\n",
       "    <tr>\n",
       "      <th>Rebecca</th>\n",
       "      <th>F</th>\n",
       "      <td>9427</td>\n",
       "    </tr>\n",
       "    <tr>\n",
       "      <th>Ruth</th>\n",
       "      <th>F</th>\n",
       "      <td>7128</td>\n",
       "    </tr>\n",
       "    <tr>\n",
       "      <th>Roy</th>\n",
       "      <th>M</th>\n",
       "      <td>6456</td>\n",
       "    </tr>\n",
       "    <tr>\n",
       "      <th>Rita</th>\n",
       "      <th>F</th>\n",
       "      <td>6424</td>\n",
       "    </tr>\n",
       "    <tr>\n",
       "      <th>Ralph</th>\n",
       "      <th>M</th>\n",
       "      <td>6404</td>\n",
       "    </tr>\n",
       "  </tbody>\n",
       "</table>\n",
       "</div>"
      ],
      "text/plain": [
       "                Count\n",
       "Name    Gender       \n",
       "Robert  M       83565\n",
       "Richard M       51001\n",
       "Ronald  M       29916\n",
       "Roger   M       12548\n",
       "Raymond M       11179\n",
       "Rebecca F        9427\n",
       "Ruth    F        7128\n",
       "Roy     M        6456\n",
       "Rita    F        6424\n",
       "Ralph   M        6404"
      ]
     },
     "execution_count": 20,
     "metadata": {},
     "output_type": "execute_result"
    }
   ],
   "source": [
    "plot_data"
   ]
  },
  {
   "cell_type": "code",
   "execution_count": 21,
   "metadata": {},
   "outputs": [
    {
     "data": {
      "text/plain": [
       "<matplotlib.axes._subplots.AxesSubplot at 0xd053e48>"
      ]
     },
     "execution_count": 21,
     "metadata": {},
     "output_type": "execute_result"
    },
    {
     "data": {
      "image/png": "[encoded data removed]",
      "text/plain": [
       "<matplotlib.figure.Figure at 0x8b1f9e8>"
      ]
     },
     "metadata": {},
     "output_type": "display_data"
    }
   ],
   "source": [
    "plot_data.plot.pie(y = 'Count', autopct='%i%%')"
   ]
  },
  {
   "cell_type": "code",
   "execution_count": null,
   "metadata": {},
   "outputs": [],
   "source": []
  },
  {
   "cell_type": "code",
   "execution_count": 22,
   "metadata": {},
   "outputs": [],
   "source": [
    "def calc_sum_cl(x):\n",
    "    consonant_letters = \"BCDFGHJKLMNPQRSTVWXYZbcdfghjklmnpqrstvwxyz\"\n",
    "    sum_cl = sum(1 for t in x if t in consonant_letters)\n",
    "    return sum_cl\n",
    "\n",
    "\n",
    "data_pathes = []\n",
    "data_years = []\n",
    "data_for_analytics = []\n",
    "\n",
    "\n",
    "for year in range(years_begin, years_end):\n",
    "    str_year = \"yob\" + str(year)+ \".txt\"\n",
    "    path_test = os.path.join(DATA_PATH, str_year)\n",
    "    if os.path.exists(path_test) and os.path.isfile(path_test):\n",
    "        data_pathes.append(path_test)\n",
    "        data_years.append(year)\n",
    "\n",
    "for dp in data_pathes:\n",
    "    data_for_analytics.append(pnd.read_csv(dp, names = ['Name', 'Gender', 'Count']))\n",
    "\n",
    "if len(data_for_analytics):\n",
    "    data_by_all_years_without_years = pnd.concat(data_for_analytics).drop('Gender', axis=1)\n",
    "    #data_by_all_years_without_years['num_cons_lett'] = data_by_all_years_without_years['Name'].map(calc_sum_cl)\n",
    "    group_data_without_years = data_by_all_years_without_years.groupby('Name').sum()\n",
    "\n"
   ]
  },
  {
   "cell_type": "code",
   "execution_count": 23,
   "metadata": {},
   "outputs": [],
   "source": [
    "group_data_without_years = group_data_without_years.reset_index()"
   ]
  },
  {
   "cell_type": "code",
   "execution_count": 24,
   "metadata": {},
   "outputs": [],
   "source": [
    "group_data_without_years['num_cons_lett'] = group_data_without_years['Name'].map(calc_sum_cl)"
   ]
  },
  {
   "cell_type": "code",
   "execution_count": 25,
   "metadata": {},
   "outputs": [
    {
     "data": {
      "text/html": [
       "<div>\n",
       "<style scoped>\n",
       "    .dataframe tbody tr th:only-of-type {\n",
       "        vertical-align: middle;\n",
       "    }\n",
       "\n",
       "    .dataframe tbody tr th {\n",
       "        vertical-align: top;\n",
       "    }\n",
       "\n",
       "    .dataframe thead th {\n",
       "        text-align: right;\n",
       "    }\n",
       "</style>\n",
       "<table border=\"1\" class=\"dataframe\">\n",
       "  <thead>\n",
       "    <tr style=\"text-align: right;\">\n",
       "      <th></th>\n",
       "      <th>Name</th>\n",
       "      <th>Count</th>\n",
       "      <th>num_cons_lett</th>\n",
       "    </tr>\n",
       "  </thead>\n",
       "  <tbody>\n",
       "    <tr>\n",
       "      <th>0</th>\n",
       "      <td>Aadam</td>\n",
       "      <td>52</td>\n",
       "      <td>2</td>\n",
       "    </tr>\n",
       "    <tr>\n",
       "      <th>1</th>\n",
       "      <td>Aadil</td>\n",
       "      <td>71</td>\n",
       "      <td>2</td>\n",
       "    </tr>\n",
       "    <tr>\n",
       "      <th>2</th>\n",
       "      <td>Aaditya</td>\n",
       "      <td>19</td>\n",
       "      <td>3</td>\n",
       "    </tr>\n",
       "    <tr>\n",
       "      <th>3</th>\n",
       "      <td>Aage</td>\n",
       "      <td>7</td>\n",
       "      <td>1</td>\n",
       "    </tr>\n",
       "    <tr>\n",
       "      <th>4</th>\n",
       "      <td>Aagot</td>\n",
       "      <td>5</td>\n",
       "      <td>2</td>\n",
       "    </tr>\n",
       "    <tr>\n",
       "      <th>5</th>\n",
       "      <td>Aailiyah</td>\n",
       "      <td>5</td>\n",
       "      <td>3</td>\n",
       "    </tr>\n",
       "    <tr>\n",
       "      <th>6</th>\n",
       "      <td>Aailyah</td>\n",
       "      <td>27</td>\n",
       "      <td>3</td>\n",
       "    </tr>\n",
       "    <tr>\n",
       "      <th>7</th>\n",
       "      <td>Aaisha</td>\n",
       "      <td>77</td>\n",
       "      <td>2</td>\n",
       "    </tr>\n",
       "    <tr>\n",
       "      <th>8</th>\n",
       "      <td>Aajah</td>\n",
       "      <td>6</td>\n",
       "      <td>2</td>\n",
       "    </tr>\n",
       "    <tr>\n",
       "      <th>9</th>\n",
       "      <td>Aakash</td>\n",
       "      <td>370</td>\n",
       "      <td>3</td>\n",
       "    </tr>\n",
       "    <tr>\n",
       "      <th>10</th>\n",
       "      <td>Aakeem</td>\n",
       "      <td>11</td>\n",
       "      <td>2</td>\n",
       "    </tr>\n",
       "    <tr>\n",
       "      <th>11</th>\n",
       "      <td>Aakilah</td>\n",
       "      <td>11</td>\n",
       "      <td>3</td>\n",
       "    </tr>\n",
       "    <tr>\n",
       "      <th>12</th>\n",
       "      <td>Aala</td>\n",
       "      <td>6</td>\n",
       "      <td>1</td>\n",
       "    </tr>\n",
       "    <tr>\n",
       "      <th>13</th>\n",
       "      <td>Aalaiyah</td>\n",
       "      <td>5</td>\n",
       "      <td>3</td>\n",
       "    </tr>\n",
       "    <tr>\n",
       "      <th>14</th>\n",
       "      <td>Aalap</td>\n",
       "      <td>6</td>\n",
       "      <td>2</td>\n",
       "    </tr>\n",
       "  </tbody>\n",
       "</table>\n",
       "</div>"
      ],
      "text/plain": [
       "        Name  Count  num_cons_lett\n",
       "0      Aadam     52              2\n",
       "1      Aadil     71              2\n",
       "2    Aaditya     19              3\n",
       "3       Aage      7              1\n",
       "4      Aagot      5              2\n",
       "5   Aailiyah      5              3\n",
       "6    Aailyah     27              3\n",
       "7     Aaisha     77              2\n",
       "8      Aajah      6              2\n",
       "9     Aakash    370              3\n",
       "10    Aakeem     11              2\n",
       "11   Aakilah     11              3\n",
       "12      Aala      6              1\n",
       "13  Aalaiyah      5              3\n",
       "14     Aalap      6              2"
      ]
     },
     "execution_count": 25,
     "metadata": {},
     "output_type": "execute_result"
    }
   ],
   "source": [
    "group_data_without_years.head(15)"
   ]
  },
  {
   "cell_type": "code",
   "execution_count": 26,
   "metadata": {},
   "outputs": [
    {
     "data": {
      "image/png": "[encoded data removed]",
      "text/plain": [
       "<matplotlib.figure.Figure at 0xd004390>"
      ]
     },
     "metadata": {},
     "output_type": "display_data"
    }
   ],
   "source": [
    "group_data_without_years.plot(x='num_cons_lett', y='Count', style='o', markersize=3);"
   ]
  },
  {
   "cell_type": "code",
   "execution_count": null,
   "metadata": {},
   "outputs": [],
   "source": []
  }
 ],
 "metadata": {
  "kernelspec": {
   "display_name": "Python 2",
   "language": "python",
   "name": "python2"
  },
  "language_info": {
   "codemirror_mode": {
    "name": "ipython",
    "version": 2
   },
   "file_extension": ".py",
   "mimetype": "text/x-python",
   "name": "python",
   "nbconvert_exporter": "python",
   "pygments_lexer": "ipython2",
   "version": "2.7.14"
  }
 },
 "nbformat": 4,
 "nbformat_minor": 2
}
